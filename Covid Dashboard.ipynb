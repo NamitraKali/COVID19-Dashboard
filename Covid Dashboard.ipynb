{
 "cells": [
  {
   "cell_type": "markdown",
   "metadata": {},
   "source": [
    "# *CS 431 Final Project*\n",
    "\n",
    "# COVID-19 Dashboard\n",
    "\n",
    "Name: Namitra Kalicharran\n",
    "\n",
    "Student ID: 20674483"
   ]
  },
  {
   "cell_type": "code",
   "execution_count": 1,
   "metadata": {},
   "outputs": [],
   "source": [
    "%matplotlib inline"
   ]
  },
  {
   "cell_type": "code",
   "execution_count": 2,
   "metadata": {},
   "outputs": [],
   "source": [
    "from pyspark import SparkContext, SparkConf\n",
    "from pyspark.sql import SparkSession\n",
    "from pyspark.sql.functions import lit, date_format, col, when, unix_timestamp, from_unixtime, sum as sql_sum\n",
    "from functools import reduce\n",
    "import matplotlib.pyplot as plt\n",
    "from scipy.signal import savgol_filter\n",
    "import numpy as np\n",
    "import seaborn as sns\n",
    "import random\n",
    "import os\n",
    "import git\n",
    "import shutil\n",
    "\n",
    "from ipywidgets import interact, interactive, fixed, interact_manual\n",
    "import ipywidgets as widgets"
   ]
  },
  {
   "cell_type": "code",
   "execution_count": 3,
   "metadata": {},
   "outputs": [],
   "source": [
    "spark = SparkSession.builder.appName(\"YourTest\").master(\"local[2]\").config('spark.ui.port', random.randrange(4000,5000)).getOrCreate()"
   ]
  },
  {
   "cell_type": "code",
   "execution_count": 4,
   "metadata": {},
   "outputs": [
    {
     "ename": "GitCommandError",
     "evalue": "Cmd('git') failed due to: exit code(128)\n  cmdline: git clone -v https://github.com/CSSEGISandData/COVID-19 COVID_data\n  stderr: 'fatal: destination path 'COVID_data' already exists and is not an empty directory.\n'",
     "output_type": "error",
     "traceback": [
      "\u001b[1;31m---------------------------------------------------------------------------\u001b[0m",
      "\u001b[1;31mGitCommandError\u001b[0m                           Traceback (most recent call last)",
      "\u001b[1;32m<ipython-input-4-f0fe9e48a304>\u001b[0m in \u001b[0;36m<module>\u001b[1;34m\u001b[0m\n\u001b[0;32m      1\u001b[0m \u001b[0mgit_url\u001b[0m \u001b[1;33m=\u001b[0m \u001b[1;34m\"https://github.com/CSSEGISandData/COVID-19\"\u001b[0m\u001b[1;33m\u001b[0m\u001b[1;33m\u001b[0m\u001b[0m\n\u001b[1;32m----> 2\u001b[1;33m \u001b[0mgit\u001b[0m\u001b[1;33m.\u001b[0m\u001b[0mRepo\u001b[0m\u001b[1;33m.\u001b[0m\u001b[0mclone_from\u001b[0m\u001b[1;33m(\u001b[0m\u001b[0mgit_url\u001b[0m\u001b[1;33m,\u001b[0m \u001b[1;34m\"COVID_data\"\u001b[0m\u001b[1;33m)\u001b[0m\u001b[1;33m\u001b[0m\u001b[1;33m\u001b[0m\u001b[0m\n\u001b[0m",
      "\u001b[1;32m~\\Anaconda3\\envs\\data_sci\\lib\\site-packages\\git\\repo\\base.py\u001b[0m in \u001b[0;36mclone_from\u001b[1;34m(cls, url, to_path, progress, env, multi_options, **kwargs)\u001b[0m\n\u001b[0;32m   1015\u001b[0m         \u001b[1;32mif\u001b[0m \u001b[0menv\u001b[0m \u001b[1;32mis\u001b[0m \u001b[1;32mnot\u001b[0m \u001b[1;32mNone\u001b[0m\u001b[1;33m:\u001b[0m\u001b[1;33m\u001b[0m\u001b[1;33m\u001b[0m\u001b[0m\n\u001b[0;32m   1016\u001b[0m             \u001b[0mgit\u001b[0m\u001b[1;33m.\u001b[0m\u001b[0mupdate_environment\u001b[0m\u001b[1;33m(\u001b[0m\u001b[1;33m**\u001b[0m\u001b[0menv\u001b[0m\u001b[1;33m)\u001b[0m\u001b[1;33m\u001b[0m\u001b[1;33m\u001b[0m\u001b[0m\n\u001b[1;32m-> 1017\u001b[1;33m         \u001b[1;32mreturn\u001b[0m \u001b[0mcls\u001b[0m\u001b[1;33m.\u001b[0m\u001b[0m_clone\u001b[0m\u001b[1;33m(\u001b[0m\u001b[0mgit\u001b[0m\u001b[1;33m,\u001b[0m \u001b[0murl\u001b[0m\u001b[1;33m,\u001b[0m \u001b[0mto_path\u001b[0m\u001b[1;33m,\u001b[0m \u001b[0mGitCmdObjectDB\u001b[0m\u001b[1;33m,\u001b[0m \u001b[0mprogress\u001b[0m\u001b[1;33m,\u001b[0m \u001b[0mmulti_options\u001b[0m\u001b[1;33m,\u001b[0m \u001b[1;33m**\u001b[0m\u001b[0mkwargs\u001b[0m\u001b[1;33m)\u001b[0m\u001b[1;33m\u001b[0m\u001b[1;33m\u001b[0m\u001b[0m\n\u001b[0m\u001b[0;32m   1018\u001b[0m \u001b[1;33m\u001b[0m\u001b[0m\n\u001b[0;32m   1019\u001b[0m     \u001b[1;32mdef\u001b[0m \u001b[0marchive\u001b[0m\u001b[1;33m(\u001b[0m\u001b[0mself\u001b[0m\u001b[1;33m,\u001b[0m \u001b[0mostream\u001b[0m\u001b[1;33m,\u001b[0m \u001b[0mtreeish\u001b[0m\u001b[1;33m=\u001b[0m\u001b[1;32mNone\u001b[0m\u001b[1;33m,\u001b[0m \u001b[0mprefix\u001b[0m\u001b[1;33m=\u001b[0m\u001b[1;32mNone\u001b[0m\u001b[1;33m,\u001b[0m \u001b[1;33m**\u001b[0m\u001b[0mkwargs\u001b[0m\u001b[1;33m)\u001b[0m\u001b[1;33m:\u001b[0m\u001b[1;33m\u001b[0m\u001b[1;33m\u001b[0m\u001b[0m\n",
      "\u001b[1;32m~\\Anaconda3\\envs\\data_sci\\lib\\site-packages\\git\\repo\\base.py\u001b[0m in \u001b[0;36m_clone\u001b[1;34m(cls, git, url, path, odb_default_type, progress, multi_options, **kwargs)\u001b[0m\n\u001b[0;32m    956\u001b[0m             \u001b[1;33m(\u001b[0m\u001b[0mstdout\u001b[0m\u001b[1;33m,\u001b[0m \u001b[0mstderr\u001b[0m\u001b[1;33m)\u001b[0m \u001b[1;33m=\u001b[0m \u001b[0mproc\u001b[0m\u001b[1;33m.\u001b[0m\u001b[0mcommunicate\u001b[0m\u001b[1;33m(\u001b[0m\u001b[1;33m)\u001b[0m\u001b[1;33m\u001b[0m\u001b[1;33m\u001b[0m\u001b[0m\n\u001b[0;32m    957\u001b[0m             \u001b[0mlog\u001b[0m\u001b[1;33m.\u001b[0m\u001b[0mdebug\u001b[0m\u001b[1;33m(\u001b[0m\u001b[1;34m\"Cmd(%s)'s unused stdout: %s\"\u001b[0m\u001b[1;33m,\u001b[0m \u001b[0mgetattr\u001b[0m\u001b[1;33m(\u001b[0m\u001b[0mproc\u001b[0m\u001b[1;33m,\u001b[0m \u001b[1;34m'args'\u001b[0m\u001b[1;33m,\u001b[0m \u001b[1;34m''\u001b[0m\u001b[1;33m)\u001b[0m\u001b[1;33m,\u001b[0m \u001b[0mstdout\u001b[0m\u001b[1;33m)\u001b[0m\u001b[1;33m\u001b[0m\u001b[1;33m\u001b[0m\u001b[0m\n\u001b[1;32m--> 958\u001b[1;33m             \u001b[0mfinalize_process\u001b[0m\u001b[1;33m(\u001b[0m\u001b[0mproc\u001b[0m\u001b[1;33m,\u001b[0m \u001b[0mstderr\u001b[0m\u001b[1;33m=\u001b[0m\u001b[0mstderr\u001b[0m\u001b[1;33m)\u001b[0m\u001b[1;33m\u001b[0m\u001b[1;33m\u001b[0m\u001b[0m\n\u001b[0m\u001b[0;32m    959\u001b[0m \u001b[1;33m\u001b[0m\u001b[0m\n\u001b[0;32m    960\u001b[0m         \u001b[1;31m# our git command could have a different working dir than our actual\u001b[0m\u001b[1;33m\u001b[0m\u001b[1;33m\u001b[0m\u001b[1;33m\u001b[0m\u001b[0m\n",
      "\u001b[1;32m~\\Anaconda3\\envs\\data_sci\\lib\\site-packages\\git\\util.py\u001b[0m in \u001b[0;36mfinalize_process\u001b[1;34m(proc, **kwargs)\u001b[0m\n\u001b[0;32m    326\u001b[0m     \u001b[1;34m\"\"\"Wait for the process (clone, fetch, pull or push) and handle its errors accordingly\"\"\"\u001b[0m\u001b[1;33m\u001b[0m\u001b[1;33m\u001b[0m\u001b[0m\n\u001b[0;32m    327\u001b[0m     \u001b[1;31m## TODO: No close proc-streams??\u001b[0m\u001b[1;33m\u001b[0m\u001b[1;33m\u001b[0m\u001b[1;33m\u001b[0m\u001b[0m\n\u001b[1;32m--> 328\u001b[1;33m     \u001b[0mproc\u001b[0m\u001b[1;33m.\u001b[0m\u001b[0mwait\u001b[0m\u001b[1;33m(\u001b[0m\u001b[1;33m**\u001b[0m\u001b[0mkwargs\u001b[0m\u001b[1;33m)\u001b[0m\u001b[1;33m\u001b[0m\u001b[1;33m\u001b[0m\u001b[0m\n\u001b[0m\u001b[0;32m    329\u001b[0m \u001b[1;33m\u001b[0m\u001b[0m\n\u001b[0;32m    330\u001b[0m \u001b[1;33m\u001b[0m\u001b[0m\n",
      "\u001b[1;32m~\\Anaconda3\\envs\\data_sci\\lib\\site-packages\\git\\cmd.py\u001b[0m in \u001b[0;36mwait\u001b[1;34m(self, stderr)\u001b[0m\n\u001b[0;32m    406\u001b[0m                 \u001b[0merrstr\u001b[0m \u001b[1;33m=\u001b[0m \u001b[0mread_all_from_possibly_closed_stream\u001b[0m\u001b[1;33m(\u001b[0m\u001b[0mself\u001b[0m\u001b[1;33m.\u001b[0m\u001b[0mproc\u001b[0m\u001b[1;33m.\u001b[0m\u001b[0mstderr\u001b[0m\u001b[1;33m)\u001b[0m\u001b[1;33m\u001b[0m\u001b[1;33m\u001b[0m\u001b[0m\n\u001b[0;32m    407\u001b[0m                 \u001b[0mlog\u001b[0m\u001b[1;33m.\u001b[0m\u001b[0mdebug\u001b[0m\u001b[1;33m(\u001b[0m\u001b[1;34m'AutoInterrupt wait stderr: %r'\u001b[0m \u001b[1;33m%\u001b[0m \u001b[1;33m(\u001b[0m\u001b[0merrstr\u001b[0m\u001b[1;33m,\u001b[0m\u001b[1;33m)\u001b[0m\u001b[1;33m)\u001b[0m\u001b[1;33m\u001b[0m\u001b[1;33m\u001b[0m\u001b[0m\n\u001b[1;32m--> 408\u001b[1;33m                 \u001b[1;32mraise\u001b[0m \u001b[0mGitCommandError\u001b[0m\u001b[1;33m(\u001b[0m\u001b[0mself\u001b[0m\u001b[1;33m.\u001b[0m\u001b[0margs\u001b[0m\u001b[1;33m,\u001b[0m \u001b[0mstatus\u001b[0m\u001b[1;33m,\u001b[0m \u001b[0merrstr\u001b[0m\u001b[1;33m)\u001b[0m\u001b[1;33m\u001b[0m\u001b[1;33m\u001b[0m\u001b[0m\n\u001b[0m\u001b[0;32m    409\u001b[0m             \u001b[1;31m# END status handling\u001b[0m\u001b[1;33m\u001b[0m\u001b[1;33m\u001b[0m\u001b[1;33m\u001b[0m\u001b[0m\n\u001b[0;32m    410\u001b[0m             \u001b[1;32mreturn\u001b[0m \u001b[0mstatus\u001b[0m\u001b[1;33m\u001b[0m\u001b[1;33m\u001b[0m\u001b[0m\n",
      "\u001b[1;31mGitCommandError\u001b[0m: Cmd('git') failed due to: exit code(128)\n  cmdline: git clone -v https://github.com/CSSEGISandData/COVID-19 COVID_data\n  stderr: 'fatal: destination path 'COVID_data' already exists and is not an empty directory.\n'"
     ]
    }
   ],
   "source": [
    "git_url = \"https://github.com/CSSEGISandData/COVID-19\"\n",
    "git.Repo.clone_from(git_url, \"COVID_data\")"
   ]
  },
  {
   "cell_type": "markdown",
   "metadata": {},
   "source": [
    "# Time Series Data"
   ]
  },
  {
   "cell_type": "code",
   "execution_count": 5,
   "metadata": {},
   "outputs": [
    {
     "name": "stdout",
     "output_type": "stream",
     "text": [
      "['Province/State', 'Country/Region', 'Lat', 'Long', '1/22/20', '1/23/20', '1/24/20', '1/25/20', '1/26/20', '1/27/20', '1/28/20', '1/29/20', '1/30/20', '1/31/20', '2/1/20', '2/2/20', '2/3/20', '2/4/20', '2/5/20', '2/6/20', '2/7/20', '2/8/20', '2/9/20', '2/10/20', '2/11/20', '2/12/20', '2/13/20', '2/14/20', '2/15/20', '2/16/20', '2/17/20', '2/18/20', '2/19/20', '2/20/20', '2/21/20', '2/22/20', '2/23/20', '2/24/20', '2/25/20', '2/26/20', '2/27/20', '2/28/20', '2/29/20', '3/1/20', '3/2/20', '3/3/20', '3/4/20', '3/5/20', '3/6/20', '3/7/20', '3/8/20', '3/9/20', '3/10/20', '3/11/20', '3/12/20', '3/13/20', '3/14/20', '3/15/20', '3/16/20', '3/17/20', '3/18/20', '3/19/20', '3/20/20', '3/21/20', '3/22/20', '3/23/20', '3/24/20', '3/25/20', '3/26/20', '3/27/20', '3/28/20', '3/29/20', '3/30/20', '3/31/20', '4/1/20', '4/2/20', '4/3/20', '4/4/20', '4/5/20', '4/6/20', '4/7/20', '4/8/20', '4/9/20', '4/10/20', '4/11/20', '4/12/20', '4/13/20', '4/14/20', '4/15/20', '4/16/20', '4/17/20', '4/18/20', '4/19/20', '4/20/20']\n"
     ]
    }
   ],
   "source": [
    "path = 'COVID_data/csse_covid_19_data/csse_covid_19_time_series/'\n",
    "\n",
    "confirmed = spark.read.csv(path+'time_series_covid19_confirmed_global.csv', sep=\",\", inferSchema=True, header=True).cache()\n",
    "deaths = spark.read.csv(path+'time_series_covid19_deaths_global.csv', sep=\",\", inferSchema=True, header=True).cache()\n",
    "recovered = spark.read.csv(path+'time_series_covid19_recovered_global.csv', sep=\",\", inferSchema=True, header=True).cache()\n",
    "\n",
    "country_info = spark.read.csv(\"COVID_data/csse_covid_19_data\", sep=',', inferSchema=True, header=True).cache()\n",
    "\n",
    "# Check if each table has the same number of columns\n",
    "print(confirmed.columns)\n",
    "date_cols = confirmed.columns[4:]\n",
    "norm_dates = [f'norm_{date}' for date in date_cols]"
   ]
  },
  {
   "cell_type": "code",
   "execution_count": 6,
   "metadata": {},
   "outputs": [],
   "source": [
    "# Aggregate the rows over each country\n",
    "confirmed = confirmed.select('Country/Region', *date_cols).groupBy('Country/Region').agg(*[sql_sum(date).alias(date) for date in date_cols])\n",
    "deaths = deaths.select('Country/Region', *date_cols).groupBy('Country/Region').agg(*[sql_sum(date).alias(date) for date in date_cols])\n",
    "recovered = recovered.select('Country/Region', *date_cols).groupBy('Country/Region').agg(*[sql_sum(date).alias(date) for date in date_cols])\n",
    "\n",
    "# Make normalized versions of each dataframe\n",
    "total = confirmed.union(deaths).union(recovered).groupBy('Country/Region').agg(*[sql_sum(date).alias(date) for date in date_cols])\n",
    "    \n",
    "\n",
    "# Get each countries total population\n",
    "country_info = country_info.select('Country_Region', 'Population').groupBy('Country_Region').agg(sql_sum('Population').alias('Total Population'))"
   ]
  },
  {
   "cell_type": "code",
   "execution_count": 7,
   "metadata": {},
   "outputs": [],
   "source": [
    "countries = [element[0] for element in confirmed.select('Country/Region').distinct().collect()]"
   ]
  },
  {
   "cell_type": "code",
   "execution_count": 8,
   "metadata": {},
   "outputs": [
    {
     "data": {
      "application/vnd.jupyter.widget-view+json": {
       "model_id": "91c5140a0cc341babfc7e01ef0170ced",
       "version_major": 2,
       "version_minor": 0
      },
      "text/plain": [
       "interactive(children=(Dropdown(description='country', options=('Chad', 'Paraguay', 'Russia', 'Yemen', 'Senegal…"
      ]
     },
     "metadata": {},
     "output_type": "display_data"
    }
   ],
   "source": [
    "@interact(country=countries, scale=['linear', 'log'])\n",
    "def plotConfirmedCountry(country, scale):\n",
    "    cases_ts = list(confirmed.select(*date_cols).where(confirmed['Country/Region'] == country).collect()[0])\n",
    "    death_count = list(deaths.select(*date_cols).where(deaths['Country/Region'] == country).collect()[0])\n",
    "    recov_count = list(recovered.select(*date_cols).where(recovered['Country/Region'] == country).collect()[0])\n",
    "    \n",
    "    # Plot the data for a country\n",
    "    fig, ax = plt.subplots(figsize=(15, 10))\n",
    "    plt.title(f\"Confirmed Cases ({country})\")\n",
    "    plt.xlabel('Date')\n",
    "    plt.ylabel(f'# of Cases\\n{scale} scale')\n",
    "    plt.stackplot(date_cols, *[death_count, recov_count, cases_ts], labels=['Deaths', 'Recovered', 'Confirmed'])\n",
    "    \n",
    "    # Axis scales\n",
    "    plt.xticks(date_cols, rotation='vertical')\n",
    "    plt.yscale(scale)\n",
    "    plt.legend(loc='upper left')\n",
    "    \n"
   ]
  },
  {
   "cell_type": "code",
   "execution_count": 9,
   "metadata": {},
   "outputs": [
    {
     "data": {
      "application/vnd.jupyter.widget-view+json": {
       "model_id": "8772bdf2bc8c4368a3ee53fbd5f0d2e0",
       "version_major": 2,
       "version_minor": 0
      },
      "text/plain": [
       "interactive(children=(Dropdown(description='country', options=('Chad', 'Paraguay', 'Russia', 'Yemen', 'Senegal…"
      ]
     },
     "metadata": {},
     "output_type": "display_data"
    }
   ],
   "source": [
    "@interact(country=countries)\n",
    "def plotRelAreaCountry(country):    \n",
    "    # normalize by column for country\n",
    "    con = confirmed.select(*date_cols).where(confirmed['Country/Region'] == country).withColumn('Type', lit('Confirmed'))\n",
    "    ded = deaths.select(*date_cols).where(deaths['Country/Region'] == country).withColumn('Type', lit('Deaths'))\n",
    "    rec = recovered.select(*date_cols).where(recovered['Country/Region'] == country).withColumn('Type', lit('Recovered'))\n",
    "\n",
    "    result = con.union(ded).union(rec)\n",
    "    col_sums = list(result.groupBy().sum().collect()[0])\n",
    "\n",
    "    for i, date in enumerate(date_cols):\n",
    "        result = result.withColumn(f'norm_{date}', result[date] / col_sums[i]).drop(date)\n",
    "    result = result.na.fill(0)\n",
    "    \n",
    "    # Organize into\n",
    "    x = date_cols\n",
    "    \n",
    "    cases_ts = list(result.select(*norm_dates).where(result['Type'] == 'Confirmed').collect()[0])\n",
    "    death_count = list(result.select(*norm_dates).where(result['Type'] == 'Deaths').collect()[0])\n",
    "    recov_count = list(result.select(*norm_dates).where(result['Type'] == 'Recovered').collect()[0])\n",
    "    \n",
    "    y = [death_count, recov_count, cases_ts]\n",
    "    labels = ['Deaths', 'Recovered', 'Confirmed Cases']\n",
    "    \n",
    "    # Plot the data for a country\n",
    "    fig, ax = plt.subplots(figsize=(15, 10))\n",
    "    plt.title(f\"Case Proportions ({country})\")\n",
    "    plt.xlabel('Date')\n",
    "    plt.ylabel(f'Percentage')\n",
    "    plt.stackplot(x, y, labels=labels)\n",
    "    plt.legend(loc='upper left')\n",
    "    \n",
    "    # Axis scales\n",
    "    plt.xticks(date_cols, rotation='vertical')"
   ]
  },
  {
   "cell_type": "code",
   "execution_count": 10,
   "metadata": {},
   "outputs": [
    {
     "data": {
      "application/vnd.jupyter.widget-view+json": {
       "model_id": "20b7fa81506d4ab2a91be505e8096d82",
       "version_major": 2,
       "version_minor": 0
      },
      "text/plain": [
       "interactive(children=(SelectMultiple(description='country_list', index=(32, 36, 90, 34), options=('Afghanistan…"
      ]
     },
     "metadata": {},
     "output_type": "display_data"
    }
   ],
   "source": [
    "pre_select = ['Canada', 'China', 'Korea, South', 'Chad']\n",
    "def moving_average(a, n=7):\n",
    "    ret = np.cumsum(a)\n",
    "    ret[n:] = ret[n:] - ret[:-n]\n",
    "    return ret[n - 1:] / n\n",
    "\n",
    "w_country = widgets.SelectMultiple(\n",
    "    options=sorted(countries),\n",
    "    rows = 10,\n",
    "    value=pre_select,\n",
    ")\n",
    "\n",
    "\n",
    "def update_growth_rate(country_list):\n",
    "    fig, ax = plt.subplots(figsize=(30, 15))\n",
    "    for country in country_list:\n",
    "        spark_query = confirmed.select(*date_cols).where(confirmed['Country/Region'] == country).collect()[0]\n",
    "        x = moving_average(np.array(spark_query))\n",
    "        y = np.gradient(x)\n",
    "        plt.plot(x, y, label=country)\n",
    "    \n",
    "    plt.xlabel('Confirmed Cases')\n",
    "    plt.ylabel('Growth Rate')\n",
    "    plt.yscale('log')\n",
    "    plt.xscale('log')\n",
    "    plt.legend(loc='upper left')\n",
    "    plt.show()\n",
    "    \n",
    "interactive(update_growth_rate, country_list=w_country)"
   ]
  },
  {
   "cell_type": "code",
   "execution_count": null,
   "metadata": {},
   "outputs": [],
   "source": []
  },
  {
   "cell_type": "code",
   "execution_count": null,
   "metadata": {},
   "outputs": [],
   "source": []
  }
 ],
 "metadata": {
  "kernelspec": {
   "display_name": "Python 3",
   "language": "python",
   "name": "python3"
  },
  "language_info": {
   "codemirror_mode": {
    "name": "ipython",
    "version": 3
   },
   "file_extension": ".py",
   "mimetype": "text/x-python",
   "name": "python",
   "nbconvert_exporter": "python",
   "pygments_lexer": "ipython3",
   "version": "3.6.7"
  }
 },
 "nbformat": 4,
 "nbformat_minor": 4
}
